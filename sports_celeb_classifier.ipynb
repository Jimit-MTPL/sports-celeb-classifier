{
 "cells": [
  {
   "cell_type": "code",
   "execution_count": 1,
   "id": "9366c210-e86c-441c-ac24-8b7dcc153a1a",
   "metadata": {},
   "outputs": [],
   "source": [
    "import os\n",
    "import cv2\n",
    "#use numpy >= 1.26.0 and <2.0"
   ]
  },
  {
   "cell_type": "code",
   "execution_count": 2,
   "id": "d78d6f62-fd39-48d6-bcde-b59db2b24195",
   "metadata": {},
   "outputs": [],
   "source": [
    "input_dir = 'Dataset/'  # Your dataset directory\n",
    "output_dir = 'resized_dataset/'  # Directory to save resized images\n",
    "target_size = (224, 224)"
   ]
  },
  {
   "cell_type": "code",
   "execution_count": 3,
   "id": "1a3a1ccf-7808-46d8-b42d-62d05b80f842",
   "metadata": {},
   "outputs": [],
   "source": [
    "os.makedirs(output_dir, exist_ok=True)"
   ]
  },
  {
   "cell_type": "code",
   "execution_count": 4,
   "id": "6c7917bb-3cd2-4acc-8072-f91eca613701",
   "metadata": {},
   "outputs": [],
   "source": [
    "for category in os.listdir(input_dir):\n",
    "    category_path = os.path.join(input_dir, category)\n",
    "\n",
    "    # Create a corresponding directory in the output folder\n",
    "    output_category_dir = os.path.join(output_dir, category)\n",
    "    os.makedirs(output_category_dir, exist_ok=True)\n",
    "\n",
    "    # Check if it's a folder (for each class)\n",
    "    if os.path.isdir(category_path):\n",
    "        for filename in os.listdir(category_path):\n",
    "            if filename.endswith(('.jpg', '.jpeg', '.png')):  # Filter for image files\n",
    "                img_path = os.path.join(category_path, filename)\n",
    "                \n",
    "                # Read image using OpenCV\n",
    "                img = cv2.imread(img_path)\n",
    "\n",
    "                # Resize the image\n",
    "                resized_img = cv2.resize(img, target_size)\n",
    "\n",
    "                # Save resized image in the corresponding output folder\n",
    "                output_img_path = os.path.join(output_category_dir, filename)\n",
    "                cv2.imwrite(output_img_path, resized_img)"
   ]
  },
  {
   "cell_type": "code",
   "execution_count": 9,
   "id": "8eccd4e5-d39a-4cd0-872d-6dbb022313c1",
   "metadata": {},
   "outputs": [
    {
     "name": "stdout",
     "output_type": "stream",
     "text": [
      "Collecting tensorflow\n",
      "  Downloading tensorflow-2.17.0-cp312-cp312-win_amd64.whl.metadata (3.2 kB)\n",
      "Collecting tensorflow-intel==2.17.0 (from tensorflow)\n",
      "  Downloading tensorflow_intel-2.17.0-cp312-cp312-win_amd64.whl.metadata (5.0 kB)\n",
      "Collecting absl-py>=1.0.0 (from tensorflow-intel==2.17.0->tensorflow)\n",
      "  Downloading absl_py-2.1.0-py3-none-any.whl.metadata (2.3 kB)\n",
      "Collecting astunparse>=1.6.0 (from tensorflow-intel==2.17.0->tensorflow)\n",
      "  Downloading astunparse-1.6.3-py2.py3-none-any.whl.metadata (4.4 kB)\n",
      "Collecting flatbuffers>=24.3.25 (from tensorflow-intel==2.17.0->tensorflow)\n",
      "  Using cached flatbuffers-24.3.25-py2.py3-none-any.whl.metadata (850 bytes)\n",
      "Collecting gast!=0.5.0,!=0.5.1,!=0.5.2,>=0.2.1 (from tensorflow-intel==2.17.0->tensorflow)\n",
      "  Downloading gast-0.6.0-py3-none-any.whl.metadata (1.3 kB)\n",
      "Collecting google-pasta>=0.1.1 (from tensorflow-intel==2.17.0->tensorflow)\n",
      "  Downloading google_pasta-0.2.0-py3-none-any.whl.metadata (814 bytes)\n",
      "Collecting h5py>=3.10.0 (from tensorflow-intel==2.17.0->tensorflow)\n",
      "  Downloading h5py-3.12.1-cp312-cp312-win_amd64.whl.metadata (2.5 kB)\n",
      "Collecting libclang>=13.0.0 (from tensorflow-intel==2.17.0->tensorflow)\n",
      "  Downloading libclang-18.1.1-py2.py3-none-win_amd64.whl.metadata (5.3 kB)\n",
      "Collecting ml-dtypes<0.5.0,>=0.3.1 (from tensorflow-intel==2.17.0->tensorflow)\n",
      "  Downloading ml_dtypes-0.4.1-cp312-cp312-win_amd64.whl.metadata (20 kB)\n",
      "Collecting opt-einsum>=2.3.2 (from tensorflow-intel==2.17.0->tensorflow)\n",
      "  Downloading opt_einsum-3.4.0-py3-none-any.whl.metadata (6.3 kB)\n",
      "Requirement already satisfied: packaging in c:\\users\\jimit_moontechnolabs\\appdata\\local\\programs\\python\\python312\\lib\\site-packages (from tensorflow-intel==2.17.0->tensorflow) (24.1)\n",
      "Collecting protobuf!=4.21.0,!=4.21.1,!=4.21.2,!=4.21.3,!=4.21.4,!=4.21.5,<5.0.0dev,>=3.20.3 (from tensorflow-intel==2.17.0->tensorflow)\n",
      "  Using cached protobuf-4.25.5-cp310-abi3-win_amd64.whl.metadata (541 bytes)\n",
      "Requirement already satisfied: requests<3,>=2.21.0 in c:\\users\\jimit_moontechnolabs\\appdata\\local\\programs\\python\\python312\\lib\\site-packages (from tensorflow-intel==2.17.0->tensorflow) (2.32.3)\n",
      "Requirement already satisfied: setuptools in c:\\users\\jimit_moontechnolabs\\appdata\\local\\programs\\python\\python312\\lib\\site-packages (from tensorflow-intel==2.17.0->tensorflow) (75.1.0)\n",
      "Requirement already satisfied: six>=1.12.0 in c:\\users\\jimit_moontechnolabs\\appdata\\local\\programs\\python\\python312\\lib\\site-packages (from tensorflow-intel==2.17.0->tensorflow) (1.16.0)\n",
      "Collecting termcolor>=1.1.0 (from tensorflow-intel==2.17.0->tensorflow)\n",
      "  Downloading termcolor-2.4.0-py3-none-any.whl.metadata (6.1 kB)\n",
      "Collecting typing-extensions>=3.6.6 (from tensorflow-intel==2.17.0->tensorflow)\n",
      "  Using cached typing_extensions-4.12.2-py3-none-any.whl.metadata (3.0 kB)\n",
      "Collecting wrapt>=1.11.0 (from tensorflow-intel==2.17.0->tensorflow)\n",
      "  Using cached wrapt-1.16.0-cp312-cp312-win_amd64.whl.metadata (6.8 kB)\n",
      "Collecting grpcio<2.0,>=1.24.3 (from tensorflow-intel==2.17.0->tensorflow)\n",
      "  Using cached grpcio-1.66.2-cp312-cp312-win_amd64.whl.metadata (4.0 kB)\n",
      "Collecting tensorboard<2.18,>=2.17 (from tensorflow-intel==2.17.0->tensorflow)\n",
      "  Downloading tensorboard-2.17.1-py3-none-any.whl.metadata (1.6 kB)\n",
      "Collecting keras>=3.2.0 (from tensorflow-intel==2.17.0->tensorflow)\n",
      "  Downloading keras-3.5.0-py3-none-any.whl.metadata (5.8 kB)\n",
      "Collecting numpy<2.0.0,>=1.26.0 (from tensorflow-intel==2.17.0->tensorflow)\n",
      "  Using cached numpy-1.26.4-cp312-cp312-win_amd64.whl.metadata (61 kB)\n",
      "Collecting wheel<1.0,>=0.23.0 (from astunparse>=1.6.0->tensorflow-intel==2.17.0->tensorflow)\n",
      "  Using cached wheel-0.44.0-py3-none-any.whl.metadata (2.3 kB)\n",
      "Collecting rich (from keras>=3.2.0->tensorflow-intel==2.17.0->tensorflow)\n",
      "  Using cached rich-13.9.1-py3-none-any.whl.metadata (18 kB)\n",
      "Collecting namex (from keras>=3.2.0->tensorflow-intel==2.17.0->tensorflow)\n",
      "  Downloading namex-0.0.8-py3-none-any.whl.metadata (246 bytes)\n",
      "Collecting optree (from keras>=3.2.0->tensorflow-intel==2.17.0->tensorflow)\n",
      "  Downloading optree-0.12.1-cp312-cp312-win_amd64.whl.metadata (48 kB)\n",
      "Requirement already satisfied: charset-normalizer<4,>=2 in c:\\users\\jimit_moontechnolabs\\appdata\\local\\programs\\python\\python312\\lib\\site-packages (from requests<3,>=2.21.0->tensorflow-intel==2.17.0->tensorflow) (3.3.2)\n",
      "Requirement already satisfied: idna<4,>=2.5 in c:\\users\\jimit_moontechnolabs\\appdata\\local\\programs\\python\\python312\\lib\\site-packages (from requests<3,>=2.21.0->tensorflow-intel==2.17.0->tensorflow) (3.10)\n",
      "Requirement already satisfied: urllib3<3,>=1.21.1 in c:\\users\\jimit_moontechnolabs\\appdata\\local\\programs\\python\\python312\\lib\\site-packages (from requests<3,>=2.21.0->tensorflow-intel==2.17.0->tensorflow) (2.2.3)\n",
      "Requirement already satisfied: certifi>=2017.4.17 in c:\\users\\jimit_moontechnolabs\\appdata\\local\\programs\\python\\python312\\lib\\site-packages (from requests<3,>=2.21.0->tensorflow-intel==2.17.0->tensorflow) (2024.8.30)\n",
      "Collecting markdown>=2.6.8 (from tensorboard<2.18,>=2.17->tensorflow-intel==2.17.0->tensorflow)\n",
      "  Downloading Markdown-3.7-py3-none-any.whl.metadata (7.0 kB)\n",
      "Collecting tensorboard-data-server<0.8.0,>=0.7.0 (from tensorboard<2.18,>=2.17->tensorflow-intel==2.17.0->tensorflow)\n",
      "  Downloading tensorboard_data_server-0.7.2-py3-none-any.whl.metadata (1.1 kB)\n",
      "Collecting werkzeug>=1.0.1 (from tensorboard<2.18,>=2.17->tensorflow-intel==2.17.0->tensorflow)\n",
      "  Downloading werkzeug-3.0.4-py3-none-any.whl.metadata (3.7 kB)\n",
      "Requirement already satisfied: MarkupSafe>=2.1.1 in c:\\users\\jimit_moontechnolabs\\appdata\\local\\programs\\python\\python312\\lib\\site-packages (from werkzeug>=1.0.1->tensorboard<2.18,>=2.17->tensorflow-intel==2.17.0->tensorflow) (2.1.5)\n",
      "Collecting markdown-it-py>=2.2.0 (from rich->keras>=3.2.0->tensorflow-intel==2.17.0->tensorflow)\n",
      "  Using cached markdown_it_py-3.0.0-py3-none-any.whl.metadata (6.9 kB)\n",
      "Requirement already satisfied: pygments<3.0.0,>=2.13.0 in c:\\users\\jimit_moontechnolabs\\appdata\\local\\programs\\python\\python312\\lib\\site-packages (from rich->keras>=3.2.0->tensorflow-intel==2.17.0->tensorflow) (2.18.0)\n",
      "Collecting mdurl~=0.1 (from markdown-it-py>=2.2.0->rich->keras>=3.2.0->tensorflow-intel==2.17.0->tensorflow)\n",
      "  Using cached mdurl-0.1.2-py3-none-any.whl.metadata (1.6 kB)\n",
      "Downloading tensorflow-2.17.0-cp312-cp312-win_amd64.whl (2.0 kB)\n",
      "Downloading tensorflow_intel-2.17.0-cp312-cp312-win_amd64.whl (385.2 MB)\n",
      "   ---------------------------------------- 0.0/385.2 MB ? eta -:--:--\n",
      "   ---------------------------------------- 1.8/385.2 MB 10.1 MB/s eta 0:00:39\n",
      "   ---------------------------------------- 4.5/385.2 MB 12.2 MB/s eta 0:00:32\n",
      "    --------------------------------------- 6.8/385.2 MB 11.7 MB/s eta 0:00:33\n",
      "    --------------------------------------- 9.2/385.2 MB 11.9 MB/s eta 0:00:32\n",
      "   - -------------------------------------- 11.8/385.2 MB 11.9 MB/s eta 0:00:32\n",
      "   - -------------------------------------- 14.4/385.2 MB 11.9 MB/s eta 0:00:32\n",
      "   - -------------------------------------- 16.8/385.2 MB 11.9 MB/s eta 0:00:32\n",
      "   -- ------------------------------------- 19.4/385.2 MB 11.9 MB/s eta 0:00:31\n",
      "   -- ------------------------------------- 21.8/385.2 MB 11.9 MB/s eta 0:00:31\n",
      "   -- ------------------------------------- 24.1/385.2 MB 11.8 MB/s eta 0:00:31\n",
      "   -- ------------------------------------- 26.5/385.2 MB 11.8 MB/s eta 0:00:31\n",
      "   --- ------------------------------------ 29.1/385.2 MB 11.8 MB/s eta 0:00:31\n",
      "   --- ------------------------------------ 31.5/385.2 MB 11.8 MB/s eta 0:00:30\n",
      "   --- ------------------------------------ 34.1/385.2 MB 11.8 MB/s eta 0:00:30\n",
      "   --- ------------------------------------ 36.4/385.2 MB 11.8 MB/s eta 0:00:30\n",
      "   ---- ----------------------------------- 38.8/385.2 MB 11.8 MB/s eta 0:00:30\n",
      "   ---- ----------------------------------- 41.2/385.2 MB 11.8 MB/s eta 0:00:30\n",
      "   ---- ----------------------------------- 43.8/385.2 MB 11.8 MB/s eta 0:00:29\n",
      "   ---- ----------------------------------- 46.4/385.2 MB 11.8 MB/s eta 0:00:29\n",
      "   ----- ---------------------------------- 48.2/385.2 MB 11.8 MB/s eta 0:00:29\n",
      "   ----- ---------------------------------- 51.4/385.2 MB 11.8 MB/s eta 0:00:29\n",
      "   ----- ---------------------------------- 53.7/385.2 MB 11.8 MB/s eta 0:00:29\n",
      "   ----- ---------------------------------- 56.1/385.2 MB 11.8 MB/s eta 0:00:28\n",
      "   ------ --------------------------------- 58.5/385.2 MB 11.8 MB/s eta 0:00:28\n",
      "   ------ --------------------------------- 61.1/385.2 MB 11.8 MB/s eta 0:00:28\n",
      "   ------ --------------------------------- 63.4/385.2 MB 11.8 MB/s eta 0:00:28\n",
      "   ------ --------------------------------- 65.0/385.2 MB 11.6 MB/s eta 0:00:28\n",
      "   ------ --------------------------------- 66.1/385.2 MB 11.4 MB/s eta 0:00:28\n",
      "   ------ --------------------------------- 67.4/385.2 MB 11.2 MB/s eta 0:00:29\n",
      "   ------- -------------------------------- 68.4/385.2 MB 11.0 MB/s eta 0:00:29\n",
      "   ------- -------------------------------- 69.7/385.2 MB 10.9 MB/s eta 0:00:29\n",
      "   ------- -------------------------------- 71.0/385.2 MB 10.7 MB/s eta 0:00:30\n",
      "   ------- -------------------------------- 72.4/385.2 MB 10.6 MB/s eta 0:00:30\n",
      "   ------- -------------------------------- 73.1/385.2 MB 10.4 MB/s eta 0:00:30\n",
      "   ------- -------------------------------- 74.4/385.2 MB 10.3 MB/s eta 0:00:31\n",
      "   ------- -------------------------------- 75.8/385.2 MB 10.2 MB/s eta 0:00:31\n",
      "   ------- -------------------------------- 76.8/385.2 MB 10.1 MB/s eta 0:00:31\n",
      "   -------- ------------------------------- 78.1/385.2 MB 10.0 MB/s eta 0:00:31\n",
      "   -------- ------------------------------- 79.4/385.2 MB 9.8 MB/s eta 0:00:32\n",
      "   -------- ------------------------------- 80.7/385.2 MB 9.7 MB/s eta 0:00:32\n",
      "   -------- ------------------------------- 81.8/385.2 MB 9.6 MB/s eta 0:00:32\n",
      "   -------- ------------------------------- 83.1/385.2 MB 9.5 MB/s eta 0:00:32\n",
      "   -------- ------------------------------- 84.7/385.2 MB 9.5 MB/s eta 0:00:32\n",
      "   -------- ------------------------------- 86.2/385.2 MB 9.5 MB/s eta 0:00:32\n",
      "   --------- ------------------------------ 87.8/385.2 MB 9.4 MB/s eta 0:00:32\n",
      "   --------- ------------------------------ 89.4/385.2 MB 9.4 MB/s eta 0:00:32\n",
      "   --------- ------------------------------ 90.4/385.2 MB 9.3 MB/s eta 0:00:32\n",
      "   --------- ------------------------------ 91.5/385.2 MB 9.2 MB/s eta 0:00:32\n",
      "   --------- ------------------------------ 92.8/385.2 MB 9.2 MB/s eta 0:00:32\n",
      "   --------- ------------------------------ 94.4/385.2 MB 9.1 MB/s eta 0:00:32\n",
      "   --------- ------------------------------ 95.9/385.2 MB 9.1 MB/s eta 0:00:32\n",
      "   ---------- ----------------------------- 97.3/385.2 MB 9.0 MB/s eta 0:00:32\n",
      "   ---------- ----------------------------- 98.8/385.2 MB 9.0 MB/s eta 0:00:32\n",
      "   ---------- ----------------------------- 100.4/385.2 MB 9.0 MB/s eta 0:00:32\n",
      "   ---------- ----------------------------- 102.0/385.2 MB 9.0 MB/s eta 0:00:32\n",
      "   ---------- ----------------------------- 103.0/385.2 MB 9.0 MB/s eta 0:00:32\n",
      "   ---------- ----------------------------- 104.6/385.2 MB 8.9 MB/s eta 0:00:32\n",
      "   ----------- ---------------------------- 106.4/385.2 MB 8.9 MB/s eta 0:00:32\n",
      "   ----------- ---------------------------- 108.0/385.2 MB 8.9 MB/s eta 0:00:32\n",
      "   ----------- ---------------------------- 109.8/385.2 MB 8.9 MB/s eta 0:00:32\n",
      "   ----------- ---------------------------- 111.7/385.2 MB 8.8 MB/s eta 0:00:31\n",
      "   ----------- ---------------------------- 113.5/385.2 MB 8.8 MB/s eta 0:00:31\n",
      "   ----------- ---------------------------- 115.3/385.2 MB 8.8 MB/s eta 0:00:31\n",
      "   ------------ --------------------------- 117.4/385.2 MB 8.9 MB/s eta 0:00:31\n",
      "   ------------ --------------------------- 119.3/385.2 MB 8.9 MB/s eta 0:00:30\n",
      "   ------------ --------------------------- 121.4/385.2 MB 8.9 MB/s eta 0:00:30\n",
      "   ------------ --------------------------- 123.2/385.2 MB 8.9 MB/s eta 0:00:30\n",
      "   ------------- -------------------------- 125.3/385.2 MB 8.9 MB/s eta 0:00:30\n",
      "   ------------- -------------------------- 126.9/385.2 MB 8.9 MB/s eta 0:00:30\n",
      "   ------------- -------------------------- 128.7/385.2 MB 8.9 MB/s eta 0:00:29\n",
      "   ------------- -------------------------- 130.5/385.2 MB 8.9 MB/s eta 0:00:29\n",
      "   ------------- -------------------------- 132.6/385.2 MB 8.9 MB/s eta 0:00:29\n",
      "   -------------- ------------------------- 135.0/385.2 MB 8.9 MB/s eta 0:00:29\n",
      "   -------------- ------------------------- 137.4/385.2 MB 9.0 MB/s eta 0:00:28\n",
      "   -------------- ------------------------- 139.5/385.2 MB 9.0 MB/s eta 0:00:28\n",
      "   -------------- ------------------------- 141.8/385.2 MB 9.0 MB/s eta 0:00:28\n",
      "   -------------- ------------------------- 143.9/385.2 MB 9.0 MB/s eta 0:00:27\n",
      "   --------------- ------------------------ 146.0/385.2 MB 9.0 MB/s eta 0:00:27\n",
      "   --------------- ------------------------ 148.4/385.2 MB 9.1 MB/s eta 0:00:27\n",
      "   --------------- ------------------------ 150.7/385.2 MB 9.1 MB/s eta 0:00:26\n",
      "   --------------- ------------------------ 153.1/385.2 MB 9.1 MB/s eta 0:00:26\n",
      "   ---------------- ----------------------- 155.7/385.2 MB 9.2 MB/s eta 0:00:26\n",
      "   ---------------- ----------------------- 158.1/385.2 MB 9.2 MB/s eta 0:00:25\n",
      "   ---------------- ----------------------- 160.7/385.2 MB 9.2 MB/s eta 0:00:25\n",
      "   ---------------- ----------------------- 163.1/385.2 MB 9.3 MB/s eta 0:00:25\n",
      "   ----------------- ---------------------- 165.4/385.2 MB 9.3 MB/s eta 0:00:24\n",
      "   ----------------- ---------------------- 167.8/385.2 MB 9.3 MB/s eta 0:00:24\n",
      "   ----------------- ---------------------- 170.1/385.2 MB 9.3 MB/s eta 0:00:24\n",
      "   ----------------- ---------------------- 172.8/385.2 MB 9.4 MB/s eta 0:00:23\n",
      "   ------------------ --------------------- 175.1/385.2 MB 9.4 MB/s eta 0:00:23\n",
      "   ------------------ --------------------- 177.5/385.2 MB 9.4 MB/s eta 0:00:23\n",
      "   ------------------ --------------------- 179.8/385.2 MB 9.4 MB/s eta 0:00:22\n",
      "   ------------------ --------------------- 182.5/385.2 MB 9.5 MB/s eta 0:00:22\n",
      "   ------------------- -------------------- 184.5/385.2 MB 9.5 MB/s eta 0:00:22\n",
      "   ------------------- -------------------- 186.9/385.2 MB 9.5 MB/s eta 0:00:21\n",
      "   ------------------- -------------------- 189.0/385.2 MB 9.5 MB/s eta 0:00:21\n",
      "   ------------------- -------------------- 191.4/385.2 MB 9.5 MB/s eta 0:00:21\n",
      "   -------------------- ------------------- 194.0/385.2 MB 9.5 MB/s eta 0:00:21\n",
      "   -------------------- ------------------- 196.3/385.2 MB 9.6 MB/s eta 0:00:20\n",
      "   -------------------- ------------------- 198.7/385.2 MB 9.6 MB/s eta 0:00:20\n",
      "   -------------------- ------------------- 201.1/385.2 MB 9.6 MB/s eta 0:00:20\n",
      "   --------------------- ------------------ 203.4/385.2 MB 9.6 MB/s eta 0:00:19\n",
      "   --------------------- ------------------ 206.0/385.2 MB 9.6 MB/s eta 0:00:19\n",
      "   --------------------- ------------------ 208.4/385.2 MB 9.7 MB/s eta 0:00:19\n",
      "   --------------------- ------------------ 211.0/385.2 MB 9.7 MB/s eta 0:00:18\n",
      "   ---------------------- ----------------- 213.1/385.2 MB 9.7 MB/s eta 0:00:18\n",
      "   ---------------------- ----------------- 215.7/385.2 MB 9.7 MB/s eta 0:00:18\n",
      "   ---------------------- ----------------- 217.8/385.2 MB 9.7 MB/s eta 0:00:18\n",
      "   ---------------------- ----------------- 219.9/385.2 MB 9.7 MB/s eta 0:00:17\n",
      "   ----------------------- ---------------- 222.3/385.2 MB 9.7 MB/s eta 0:00:17\n",
      "   ----------------------- ---------------- 224.9/385.2 MB 9.8 MB/s eta 0:00:17\n",
      "   ----------------------- ---------------- 227.3/385.2 MB 9.8 MB/s eta 0:00:17\n",
      "   ----------------------- ---------------- 229.6/385.2 MB 9.8 MB/s eta 0:00:16\n",
      "   ------------------------ --------------- 232.3/385.2 MB 9.8 MB/s eta 0:00:16\n",
      "   ------------------------ --------------- 234.6/385.2 MB 9.8 MB/s eta 0:00:16\n",
      "   ------------------------ --------------- 237.2/385.2 MB 9.9 MB/s eta 0:00:16\n",
      "   ------------------------ --------------- 239.6/385.2 MB 9.9 MB/s eta 0:00:15\n",
      "   ------------------------- -------------- 242.0/385.2 MB 9.9 MB/s eta 0:00:15\n",
      "   ------------------------- -------------- 244.3/385.2 MB 9.9 MB/s eta 0:00:15\n",
      "   ------------------------- -------------- 246.9/385.2 MB 9.9 MB/s eta 0:00:14\n",
      "   ------------------------- -------------- 249.3/385.2 MB 9.9 MB/s eta 0:00:14\n",
      "   -------------------------- ------------- 251.7/385.2 MB 9.9 MB/s eta 0:00:14\n",
      "   ------------------------- ------------- 254.3/385.2 MB 10.0 MB/s eta 0:00:14\n",
      "   ------------------------- ------------- 256.6/385.2 MB 10.0 MB/s eta 0:00:13\n",
      "   -------------------------- ------------ 259.0/385.2 MB 10.0 MB/s eta 0:00:13\n",
      "   -------------------------- ------------ 261.4/385.2 MB 10.0 MB/s eta 0:00:13\n",
      "   -------------------------- ------------ 263.7/385.2 MB 10.0 MB/s eta 0:00:13\n",
      "   -------------------------- ------------ 266.3/385.2 MB 10.0 MB/s eta 0:00:12\n",
      "   --------------------------- ----------- 268.7/385.2 MB 10.0 MB/s eta 0:00:12\n",
      "   --------------------------- ----------- 271.1/385.2 MB 10.0 MB/s eta 0:00:12\n",
      "   --------------------------- ----------- 273.7/385.2 MB 10.0 MB/s eta 0:00:12\n",
      "   --------------------------- ----------- 276.0/385.2 MB 10.0 MB/s eta 0:00:11\n",
      "   ---------------------------- ---------- 278.7/385.2 MB 10.0 MB/s eta 0:00:11\n",
      "   ---------------------------- ---------- 281.0/385.2 MB 10.0 MB/s eta 0:00:11\n",
      "   ---------------------------- ---------- 283.4/385.2 MB 10.0 MB/s eta 0:00:11\n",
      "   ---------------------------- ---------- 286.0/385.2 MB 10.0 MB/s eta 0:00:10\n",
      "   ----------------------------- --------- 288.4/385.2 MB 10.0 MB/s eta 0:00:10\n",
      "   ----------------------------- --------- 290.7/385.2 MB 10.0 MB/s eta 0:00:10\n",
      "   ----------------------------- --------- 293.1/385.2 MB 10.0 MB/s eta 0:00:10\n",
      "   ----------------------------- --------- 295.7/385.2 MB 10.0 MB/s eta 0:00:09\n",
      "   ------------------------------ -------- 298.1/385.2 MB 10.0 MB/s eta 0:00:09\n",
      "   ------------------------------ -------- 300.4/385.2 MB 10.0 MB/s eta 0:00:09\n",
      "   ------------------------------ -------- 303.0/385.2 MB 10.0 MB/s eta 0:00:09\n",
      "   ------------------------------ -------- 305.4/385.2 MB 10.0 MB/s eta 0:00:08\n",
      "   ------------------------------- ------- 308.0/385.2 MB 10.0 MB/s eta 0:00:08\n",
      "   ------------------------------- ------- 310.4/385.2 MB 10.0 MB/s eta 0:00:08\n",
      "   ------------------------------- ------- 312.7/385.2 MB 10.0 MB/s eta 0:00:08\n",
      "   ------------------------------- ------- 315.4/385.2 MB 10.0 MB/s eta 0:00:07\n",
      "   -------------------------------- ------ 317.7/385.2 MB 10.0 MB/s eta 0:00:07\n",
      "   -------------------------------- ------ 320.3/385.2 MB 10.0 MB/s eta 0:00:07\n",
      "   -------------------------------- ------ 322.7/385.2 MB 10.0 MB/s eta 0:00:07\n",
      "   -------------------------------- ------ 324.8/385.2 MB 10.0 MB/s eta 0:00:07\n",
      "   --------------------------------- ----- 326.6/385.2 MB 10.0 MB/s eta 0:00:06\n",
      "   --------------------------------- ----- 328.5/385.2 MB 10.0 MB/s eta 0:00:06\n",
      "   --------------------------------- ----- 330.6/385.2 MB 10.1 MB/s eta 0:00:06\n",
      "   --------------------------------- ----- 332.4/385.2 MB 10.1 MB/s eta 0:00:06\n",
      "   --------------------------------- ----- 334.5/385.2 MB 10.2 MB/s eta 0:00:05\n",
      "   ---------------------------------- ---- 336.6/385.2 MB 10.3 MB/s eta 0:00:05\n",
      "   ---------------------------------- ---- 338.7/385.2 MB 10.3 MB/s eta 0:00:05\n",
      "   ---------------------------------- ---- 340.5/385.2 MB 10.4 MB/s eta 0:00:05\n",
      "   ---------------------------------- ---- 342.6/385.2 MB 10.4 MB/s eta 0:00:05\n",
      "   ---------------------------------- ---- 344.5/385.2 MB 10.5 MB/s eta 0:00:04\n",
      "   ----------------------------------- --- 346.6/385.2 MB 10.5 MB/s eta 0:00:04\n",
      "   ----------------------------------- --- 348.4/385.2 MB 10.5 MB/s eta 0:00:04\n",
      "   ----------------------------------- --- 350.0/385.2 MB 10.5 MB/s eta 0:00:04\n",
      "   ----------------------------------- --- 352.1/385.2 MB 10.6 MB/s eta 0:00:04\n",
      "   ----------------------------------- --- 354.4/385.2 MB 10.7 MB/s eta 0:00:03\n",
      "   ------------------------------------ -- 356.8/385.2 MB 10.7 MB/s eta 0:00:03\n",
      "   ------------------------------------ -- 359.4/385.2 MB 10.8 MB/s eta 0:00:03\n",
      "   ------------------------------------ -- 361.8/385.2 MB 10.8 MB/s eta 0:00:03\n",
      "   ------------------------------------ -- 363.9/385.2 MB 10.8 MB/s eta 0:00:02\n",
      "   ------------------------------------- - 366.0/385.2 MB 10.9 MB/s eta 0:00:02\n",
      "   ------------------------------------- - 367.5/385.2 MB 10.9 MB/s eta 0:00:02\n",
      "   ------------------------------------- - 369.9/385.2 MB 10.9 MB/s eta 0:00:02\n",
      "   ------------------------------------- - 372.2/385.2 MB 11.0 MB/s eta 0:00:02\n",
      "   ------------------------------------- - 374.6/385.2 MB 11.0 MB/s eta 0:00:01\n",
      "   --------------------------------------  377.0/385.2 MB 11.0 MB/s eta 0:00:01\n",
      "   --------------------------------------  379.1/385.2 MB 11.0 MB/s eta 0:00:01\n",
      "   --------------------------------------  381.4/385.2 MB 11.1 MB/s eta 0:00:01\n",
      "   --------------------------------------  383.8/385.2 MB 11.1 MB/s eta 0:00:01\n",
      "   --------------------------------------  385.1/385.2 MB 11.1 MB/s eta 0:00:01\n",
      "   --------------------------------------  385.1/385.2 MB 11.1 MB/s eta 0:00:01\n",
      "   --------------------------------------  385.1/385.2 MB 11.1 MB/s eta 0:00:01\n",
      "   --------------------------------------  385.1/385.2 MB 11.1 MB/s eta 0:00:01\n",
      "   --------------------------------------  385.1/385.2 MB 11.1 MB/s eta 0:00:01\n",
      "   --------------------------------------  385.1/385.2 MB 11.1 MB/s eta 0:00:01\n",
      "   --------------------------------------  385.1/385.2 MB 11.1 MB/s eta 0:00:01\n",
      "   --------------------------------------  385.1/385.2 MB 11.1 MB/s eta 0:00:01\n",
      "   --------------------------------------  385.1/385.2 MB 11.1 MB/s eta 0:00:01\n",
      "   --------------------------------------  385.1/385.2 MB 11.1 MB/s eta 0:00:01\n",
      "   --------------------------------------  385.1/385.2 MB 11.1 MB/s eta 0:00:01\n",
      "   --------------------------------------  385.1/385.2 MB 11.1 MB/s eta 0:00:01\n",
      "   --------------------------------------  385.1/385.2 MB 11.1 MB/s eta 0:00:01\n",
      "   --------------------------------------  385.1/385.2 MB 11.1 MB/s eta 0:00:01\n",
      "   --------------------------------------  385.1/385.2 MB 11.1 MB/s eta 0:00:01\n",
      "   --------------------------------------  385.1/385.2 MB 11.1 MB/s eta 0:00:01\n",
      "   --------------------------------------  385.1/385.2 MB 11.1 MB/s eta 0:00:01\n",
      "   --------------------------------------  385.1/385.2 MB 11.1 MB/s eta 0:00:01\n",
      "   --------------------------------------  385.1/385.2 MB 11.1 MB/s eta 0:00:01\n",
      "   --------------------------------------  385.1/385.2 MB 11.1 MB/s eta 0:00:01\n",
      "   --------------------------------------  385.1/385.2 MB 11.1 MB/s eta 0:00:01\n",
      "   --------------------------------------  385.1/385.2 MB 11.1 MB/s eta 0:00:01\n",
      "   --------------------------------------  385.1/385.2 MB 11.1 MB/s eta 0:00:01\n",
      "   --------------------------------------  385.1/385.2 MB 11.1 MB/s eta 0:00:01\n",
      "   --------------------------------------  385.1/385.2 MB 11.1 MB/s eta 0:00:01\n",
      "   --------------------------------------  385.1/385.2 MB 11.1 MB/s eta 0:00:01\n",
      "   --------------------------------------  385.1/385.2 MB 11.1 MB/s eta 0:00:01\n",
      "   --------------------------------------  385.1/385.2 MB 11.1 MB/s eta 0:00:01\n",
      "   --------------------------------------  385.1/385.2 MB 11.1 MB/s eta 0:00:01\n",
      "   --------------------------------------  385.1/385.2 MB 11.1 MB/s eta 0:00:01\n",
      "   --------------------------------------  385.1/385.2 MB 11.1 MB/s eta 0:00:01\n",
      "   --------------------------------------  385.1/385.2 MB 11.1 MB/s eta 0:00:01\n",
      "   --------------------------------------  385.1/385.2 MB 11.1 MB/s eta 0:00:01\n",
      "   --------------------------------------  385.1/385.2 MB 11.1 MB/s eta 0:00:01\n",
      "   --------------------------------------  385.1/385.2 MB 11.1 MB/s eta 0:00:01\n",
      "   --------------------------------------  385.1/385.2 MB 11.1 MB/s eta 0:00:01\n",
      "   --------------------------------------  385.1/385.2 MB 11.1 MB/s eta 0:00:01\n",
      "   --------------------------------------  385.1/385.2 MB 11.1 MB/s eta 0:00:01\n",
      "   --------------------------------------  385.1/385.2 MB 11.1 MB/s eta 0:00:01\n",
      "   --------------------------------------  385.1/385.2 MB 11.1 MB/s eta 0:00:01\n",
      "   --------------------------------------  385.1/385.2 MB 11.1 MB/s eta 0:00:01\n",
      "   --------------------------------------  385.1/385.2 MB 11.1 MB/s eta 0:00:01\n",
      "   --------------------------------------  385.1/385.2 MB 11.1 MB/s eta 0:00:01\n",
      "   --------------------------------------  385.1/385.2 MB 11.1 MB/s eta 0:00:01\n",
      "   --------------------------------------  385.1/385.2 MB 11.1 MB/s eta 0:00:01\n",
      "   --------------------------------------  385.1/385.2 MB 11.1 MB/s eta 0:00:01\n",
      "   --------------------------------------  385.1/385.2 MB 11.1 MB/s eta 0:00:01\n",
      "   --------------------------------------  385.1/385.2 MB 11.1 MB/s eta 0:00:01\n",
      "   --------------------------------------  385.1/385.2 MB 11.1 MB/s eta 0:00:01\n",
      "   --------------------------------------  385.1/385.2 MB 11.1 MB/s eta 0:00:01\n",
      "   ---------------------------------------- 385.2/385.2 MB 7.2 MB/s eta 0:00:00\n",
      "Downloading absl_py-2.1.0-py3-none-any.whl (133 kB)\n",
      "Downloading astunparse-1.6.3-py2.py3-none-any.whl (12 kB)\n",
      "Using cached flatbuffers-24.3.25-py2.py3-none-any.whl (26 kB)\n",
      "Downloading gast-0.6.0-py3-none-any.whl (21 kB)\n",
      "Downloading google_pasta-0.2.0-py3-none-any.whl (57 kB)\n",
      "Using cached grpcio-1.66.2-cp312-cp312-win_amd64.whl (4.3 MB)\n",
      "Downloading h5py-3.12.1-cp312-cp312-win_amd64.whl (3.0 MB)\n",
      "   ---------------------------------------- 0.0/3.0 MB ? eta -:--:--\n",
      "   ------------------------------- -------- 2.4/3.0 MB 11.2 MB/s eta 0:00:01\n",
      "   ---------------------------------------- 3.0/3.0 MB 9.7 MB/s eta 0:00:00\n",
      "Downloading keras-3.5.0-py3-none-any.whl (1.1 MB)\n",
      "   ---------------------------------------- 0.0/1.1 MB ? eta -:--:--\n",
      "   ---------------------------------------- 1.1/1.1 MB 7.1 MB/s eta 0:00:00\n",
      "Downloading libclang-18.1.1-py2.py3-none-win_amd64.whl (26.4 MB)\n",
      "   ---------------------------------------- 0.0/26.4 MB ? eta -:--:--\n",
      "   --- ------------------------------------ 2.4/26.4 MB 12.2 MB/s eta 0:00:02\n",
      "   ------- -------------------------------- 4.7/26.4 MB 11.9 MB/s eta 0:00:02\n",
      "   ---------- ----------------------------- 7.1/26.4 MB 11.8 MB/s eta 0:00:02\n",
      "   -------------- ------------------------- 9.7/26.4 MB 11.8 MB/s eta 0:00:02\n",
      "   ------------------ --------------------- 12.1/26.4 MB 11.8 MB/s eta 0:00:02\n",
      "   --------------------- ------------------ 14.4/26.4 MB 11.8 MB/s eta 0:00:02\n",
      "   ------------------------ --------------- 16.0/26.4 MB 11.2 MB/s eta 0:00:01\n",
      "   ---------------------------- ----------- 18.6/26.4 MB 11.3 MB/s eta 0:00:01\n",
      "   ------------------------------ --------- 20.4/26.4 MB 11.0 MB/s eta 0:00:01\n",
      "   ---------------------------------- ----- 22.8/26.4 MB 11.1 MB/s eta 0:00:01\n",
      "   ------------------------------------- -- 24.9/26.4 MB 11.0 MB/s eta 0:00:01\n",
      "   ---------------------------------------  26.2/26.4 MB 10.9 MB/s eta 0:00:01\n",
      "   ---------------------------------------  26.2/26.4 MB 10.9 MB/s eta 0:00:01\n",
      "   ---------------------------------------- 26.4/26.4 MB 9.3 MB/s eta 0:00:00\n",
      "Downloading ml_dtypes-0.4.1-cp312-cp312-win_amd64.whl (127 kB)\n",
      "Using cached numpy-1.26.4-cp312-cp312-win_amd64.whl (15.5 MB)\n",
      "Downloading opt_einsum-3.4.0-py3-none-any.whl (71 kB)\n",
      "Using cached protobuf-4.25.5-cp310-abi3-win_amd64.whl (413 kB)\n",
      "Downloading tensorboard-2.17.1-py3-none-any.whl (5.5 MB)\n",
      "   ---------------------------------------- 0.0/5.5 MB ? eta -:--:--\n",
      "   ----------------- ---------------------- 2.4/5.5 MB 12.2 MB/s eta 0:00:01\n",
      "   ---------------------------------- ----- 4.7/5.5 MB 11.9 MB/s eta 0:00:01\n",
      "   -------------------------------------- - 5.2/5.5 MB 11.8 MB/s eta 0:00:01\n",
      "   -------------------------------------- - 5.2/5.5 MB 11.8 MB/s eta 0:00:01\n",
      "   ---------------------------------------- 5.5/5.5 MB 5.3 MB/s eta 0:00:00\n",
      "Downloading termcolor-2.4.0-py3-none-any.whl (7.7 kB)\n",
      "Using cached typing_extensions-4.12.2-py3-none-any.whl (37 kB)\n",
      "Using cached wrapt-1.16.0-cp312-cp312-win_amd64.whl (37 kB)\n",
      "Downloading Markdown-3.7-py3-none-any.whl (106 kB)\n",
      "Downloading tensorboard_data_server-0.7.2-py3-none-any.whl (2.4 kB)\n",
      "Downloading werkzeug-3.0.4-py3-none-any.whl (227 kB)\n",
      "Using cached wheel-0.44.0-py3-none-any.whl (67 kB)\n",
      "Downloading namex-0.0.8-py3-none-any.whl (5.8 kB)\n",
      "Downloading optree-0.12.1-cp312-cp312-win_amd64.whl (267 kB)\n",
      "Using cached rich-13.9.1-py3-none-any.whl (242 kB)\n",
      "Using cached markdown_it_py-3.0.0-py3-none-any.whl (87 kB)\n",
      "Using cached mdurl-0.1.2-py3-none-any.whl (10.0 kB)\n",
      "Installing collected packages: namex, libclang, flatbuffers, wrapt, wheel, werkzeug, typing-extensions, termcolor, tensorboard-data-server, protobuf, opt-einsum, numpy, mdurl, markdown, grpcio, google-pasta, gast, absl-py, tensorboard, optree, ml-dtypes, markdown-it-py, h5py, astunparse, rich, keras, tensorflow-intel, tensorflow\n",
      "  Attempting uninstall: numpy\n",
      "    Found existing installation: numpy 2.1.1\n",
      "    Uninstalling numpy-2.1.1:\n",
      "      Successfully uninstalled numpy-2.1.1\n",
      "Successfully installed absl-py-2.1.0 astunparse-1.6.3 flatbuffers-24.3.25 gast-0.6.0 google-pasta-0.2.0 grpcio-1.66.2 h5py-3.12.1 keras-3.5.0 libclang-18.1.1 markdown-3.7 markdown-it-py-3.0.0 mdurl-0.1.2 ml-dtypes-0.4.1 namex-0.0.8 numpy-1.26.4 opt-einsum-3.4.0 optree-0.12.1 protobuf-4.25.5 rich-13.9.1 tensorboard-2.17.1 tensorboard-data-server-0.7.2 tensorflow-2.17.0 tensorflow-intel-2.17.0 termcolor-2.4.0 typing-extensions-4.12.2 werkzeug-3.0.4 wheel-0.44.0 wrapt-1.16.0\n"
     ]
    },
    {
     "name": "stderr",
     "output_type": "stream",
     "text": [
      "  WARNING: Failed to remove contents in a temporary directory 'C:\\Users\\jimit_moontechnolabs\\AppData\\Local\\Programs\\Python\\Python312\\Lib\\site-packages\\~umpy.libs'.\n",
      "  You can safely remove it manually.\n",
      "  WARNING: Failed to remove contents in a temporary directory 'C:\\Users\\jimit_moontechnolabs\\AppData\\Local\\Programs\\Python\\Python312\\Lib\\site-packages\\~umpy'.\n",
      "  You can safely remove it manually.\n"
     ]
    }
   ],
   "source": [
    "!pip install tensorflow"
   ]
  },
  {
   "cell_type": "code",
   "execution_count": 13,
   "id": "acaf6ec2-7574-4028-974b-fb05fd8b5d07",
   "metadata": {},
   "outputs": [
    {
     "name": "stdout",
     "output_type": "stream",
     "text": [
      "Requirement already satisfied: numpy in c:\\users\\jimit_moontechnolabs\\appdata\\local\\programs\\python\\python312\\lib\\site-packages (1.26.4)Note: you may need to restart the kernel to use updated packages.\n"
     ]
    },
    {
     "name": "stderr",
     "output_type": "stream",
     "text": [
      "  WARNING: Failed to remove contents in a temporary directory 'C:\\Users\\jimit_moontechnolabs\\AppData\\Local\\Programs\\Python\\Python312\\Lib\\site-packages\\~-mpy.libs'.\n",
      "  You can safely remove it manually.\n",
      "  WARNING: Failed to remove contents in a temporary directory 'C:\\Users\\jimit_moontechnolabs\\AppData\\Local\\Programs\\Python\\Python312\\Lib\\site-packages\\~-mpy'.\n",
      "  You can safely remove it manually.\n",
      "ERROR: pip's dependency resolver does not currently take into account all the packages that are installed. This behaviour is the source of the following dependency conflicts.\n",
      "tensorflow-intel 2.17.0 requires numpy<2.0.0,>=1.26.0; python_version >= \"3.12\", but you have numpy 2.1.1 which is incompatible.\n"
     ]
    },
    {
     "name": "stdout",
     "output_type": "stream",
     "text": [
      "\n",
      "Collecting numpy\n",
      "  Using cached numpy-2.1.1-cp312-cp312-win_amd64.whl.metadata (59 kB)\n",
      "Using cached numpy-2.1.1-cp312-cp312-win_amd64.whl (12.6 MB)\n",
      "Installing collected packages: numpy\n",
      "  Attempting uninstall: numpy\n",
      "    Found existing installation: numpy 1.26.4\n",
      "    Uninstalling numpy-1.26.4:\n",
      "      Successfully uninstalled numpy-1.26.4\n",
      "Successfully installed numpy-2.1.1\n"
     ]
    }
   ],
   "source": [
    "pip install --upgrade numpy"
   ]
  },
  {
   "cell_type": "code",
   "execution_count": 12,
   "id": "9588e1de-aaf7-4ecf-98a7-49c8f69fe5e7",
   "metadata": {},
   "outputs": [
    {
     "name": "stdout",
     "output_type": "stream",
     "text": [
      "Requirement already satisfied: tensorflow in c:\\users\\jimit_moontechnolabs\\appdata\\local\\programs\\python\\python312\\lib\\site-packages (2.17.0)\n",
      "Requirement already satisfied: tensorflow-intel==2.17.0 in c:\\users\\jimit_moontechnolabs\\appdata\\local\\programs\\python\\python312\\lib\\site-packages (from tensorflow) (2.17.0)\n",
      "Requirement already satisfied: absl-py>=1.0.0 in c:\\users\\jimit_moontechnolabs\\appdata\\local\\programs\\python\\python312\\lib\\site-packages (from tensorflow-intel==2.17.0->tensorflow) (2.1.0)\n",
      "Requirement already satisfied: astunparse>=1.6.0 in c:\\users\\jimit_moontechnolabs\\appdata\\local\\programs\\python\\python312\\lib\\site-packages (from tensorflow-intel==2.17.0->tensorflow) (1.6.3)\n",
      "Requirement already satisfied: flatbuffers>=24.3.25 in c:\\users\\jimit_moontechnolabs\\appdata\\local\\programs\\python\\python312\\lib\\site-packages (from tensorflow-intel==2.17.0->tensorflow) (24.3.25)\n",
      "Requirement already satisfied: gast!=0.5.0,!=0.5.1,!=0.5.2,>=0.2.1 in c:\\users\\jimit_moontechnolabs\\appdata\\local\\programs\\python\\python312\\lib\\site-packages (from tensorflow-intel==2.17.0->tensorflow) (0.6.0)\n",
      "Requirement already satisfied: google-pasta>=0.1.1 in c:\\users\\jimit_moontechnolabs\\appdata\\local\\programs\\python\\python312\\lib\\site-packages (from tensorflow-intel==2.17.0->tensorflow) (0.2.0)\n",
      "Requirement already satisfied: h5py>=3.10.0 in c:\\users\\jimit_moontechnolabs\\appdata\\local\\programs\\python\\python312\\lib\\site-packages (from tensorflow-intel==2.17.0->tensorflow) (3.12.1)\n",
      "Requirement already satisfied: libclang>=13.0.0 in c:\\users\\jimit_moontechnolabs\\appdata\\local\\programs\\python\\python312\\lib\\site-packages (from tensorflow-intel==2.17.0->tensorflow) (18.1.1)\n",
      "Requirement already satisfied: ml-dtypes<0.5.0,>=0.3.1 in c:\\users\\jimit_moontechnolabs\\appdata\\local\\programs\\python\\python312\\lib\\site-packages (from tensorflow-intel==2.17.0->tensorflow) (0.4.1)\n",
      "Requirement already satisfied: opt-einsum>=2.3.2 in c:\\users\\jimit_moontechnolabs\\appdata\\local\\programs\\python\\python312\\lib\\site-packages (from tensorflow-intel==2.17.0->tensorflow) (3.4.0)\n",
      "Requirement already satisfied: packaging in c:\\users\\jimit_moontechnolabs\\appdata\\local\\programs\\python\\python312\\lib\\site-packages (from tensorflow-intel==2.17.0->tensorflow) (24.1)\n",
      "Requirement already satisfied: protobuf!=4.21.0,!=4.21.1,!=4.21.2,!=4.21.3,!=4.21.4,!=4.21.5,<5.0.0dev,>=3.20.3 in c:\\users\\jimit_moontechnolabs\\appdata\\local\\programs\\python\\python312\\lib\\site-packages (from tensorflow-intel==2.17.0->tensorflow) (4.25.5)\n",
      "Requirement already satisfied: requests<3,>=2.21.0 in c:\\users\\jimit_moontechnolabs\\appdata\\local\\programs\\python\\python312\\lib\\site-packages (from tensorflow-intel==2.17.0->tensorflow) (2.32.3)\n",
      "Requirement already satisfied: setuptools in c:\\users\\jimit_moontechnolabs\\appdata\\local\\programs\\python\\python312\\lib\\site-packages (from tensorflow-intel==2.17.0->tensorflow) (75.1.0)\n",
      "Requirement already satisfied: six>=1.12.0 in c:\\users\\jimit_moontechnolabs\\appdata\\local\\programs\\python\\python312\\lib\\site-packages (from tensorflow-intel==2.17.0->tensorflow) (1.16.0)\n",
      "Requirement already satisfied: termcolor>=1.1.0 in c:\\users\\jimit_moontechnolabs\\appdata\\local\\programs\\python\\python312\\lib\\site-packages (from tensorflow-intel==2.17.0->tensorflow) (2.4.0)\n",
      "Requirement already satisfied: typing-extensions>=3.6.6 in c:\\users\\jimit_moontechnolabs\\appdata\\local\\programs\\python\\python312\\lib\\site-packages (from tensorflow-intel==2.17.0->tensorflow) (4.12.2)\n",
      "Requirement already satisfied: wrapt>=1.11.0 in c:\\users\\jimit_moontechnolabs\\appdata\\local\\programs\\python\\python312\\lib\\site-packages (from tensorflow-intel==2.17.0->tensorflow) (1.16.0)\n",
      "Requirement already satisfied: grpcio<2.0,>=1.24.3 in c:\\users\\jimit_moontechnolabs\\appdata\\local\\programs\\python\\python312\\lib\\site-packages (from tensorflow-intel==2.17.0->tensorflow) (1.66.2)\n",
      "Requirement already satisfied: tensorboard<2.18,>=2.17 in c:\\users\\jimit_moontechnolabs\\appdata\\local\\programs\\python\\python312\\lib\\site-packages (from tensorflow-intel==2.17.0->tensorflow) (2.17.1)\n",
      "Requirement already satisfied: keras>=3.2.0 in c:\\users\\jimit_moontechnolabs\\appdata\\local\\programs\\python\\python312\\lib\\site-packages (from tensorflow-intel==2.17.0->tensorflow) (3.5.0)\n",
      "Requirement already satisfied: numpy<2.0.0,>=1.26.0 in c:\\users\\jimit_moontechnolabs\\appdata\\local\\programs\\python\\python312\\lib\\site-packages (from tensorflow-intel==2.17.0->tensorflow) (1.26.4)\n",
      "Requirement already satisfied: wheel<1.0,>=0.23.0 in c:\\users\\jimit_moontechnolabs\\appdata\\local\\programs\\python\\python312\\lib\\site-packages (from astunparse>=1.6.0->tensorflow-intel==2.17.0->tensorflow) (0.44.0)\n",
      "Requirement already satisfied: rich in c:\\users\\jimit_moontechnolabs\\appdata\\local\\programs\\python\\python312\\lib\\site-packages (from keras>=3.2.0->tensorflow-intel==2.17.0->tensorflow) (13.9.1)\n",
      "Requirement already satisfied: namex in c:\\users\\jimit_moontechnolabs\\appdata\\local\\programs\\python\\python312\\lib\\site-packages (from keras>=3.2.0->tensorflow-intel==2.17.0->tensorflow) (0.0.8)\n",
      "Requirement already satisfied: optree in c:\\users\\jimit_moontechnolabs\\appdata\\local\\programs\\python\\python312\\lib\\site-packages (from keras>=3.2.0->tensorflow-intel==2.17.0->tensorflow) (0.12.1)\n",
      "Requirement already satisfied: charset-normalizer<4,>=2 in c:\\users\\jimit_moontechnolabs\\appdata\\local\\programs\\python\\python312\\lib\\site-packages (from requests<3,>=2.21.0->tensorflow-intel==2.17.0->tensorflow) (3.3.2)\n",
      "Requirement already satisfied: idna<4,>=2.5 in c:\\users\\jimit_moontechnolabs\\appdata\\local\\programs\\python\\python312\\lib\\site-packages (from requests<3,>=2.21.0->tensorflow-intel==2.17.0->tensorflow) (3.10)\n",
      "Requirement already satisfied: urllib3<3,>=1.21.1 in c:\\users\\jimit_moontechnolabs\\appdata\\local\\programs\\python\\python312\\lib\\site-packages (from requests<3,>=2.21.0->tensorflow-intel==2.17.0->tensorflow) (2.2.3)\n",
      "Requirement already satisfied: certifi>=2017.4.17 in c:\\users\\jimit_moontechnolabs\\appdata\\local\\programs\\python\\python312\\lib\\site-packages (from requests<3,>=2.21.0->tensorflow-intel==2.17.0->tensorflow) (2024.8.30)\n",
      "Requirement already satisfied: markdown>=2.6.8 in c:\\users\\jimit_moontechnolabs\\appdata\\local\\programs\\python\\python312\\lib\\site-packages (from tensorboard<2.18,>=2.17->tensorflow-intel==2.17.0->tensorflow) (3.7)\n",
      "Requirement already satisfied: tensorboard-data-server<0.8.0,>=0.7.0 in c:\\users\\jimit_moontechnolabs\\appdata\\local\\programs\\python\\python312\\lib\\site-packages (from tensorboard<2.18,>=2.17->tensorflow-intel==2.17.0->tensorflow) (0.7.2)\n",
      "Requirement already satisfied: werkzeug>=1.0.1 in c:\\users\\jimit_moontechnolabs\\appdata\\local\\programs\\python\\python312\\lib\\site-packages (from tensorboard<2.18,>=2.17->tensorflow-intel==2.17.0->tensorflow) (3.0.4)\n",
      "Requirement already satisfied: MarkupSafe>=2.1.1 in c:\\users\\jimit_moontechnolabs\\appdata\\local\\programs\\python\\python312\\lib\\site-packages (from werkzeug>=1.0.1->tensorboard<2.18,>=2.17->tensorflow-intel==2.17.0->tensorflow) (2.1.5)\n",
      "Requirement already satisfied: markdown-it-py>=2.2.0 in c:\\users\\jimit_moontechnolabs\\appdata\\local\\programs\\python\\python312\\lib\\site-packages (from rich->keras>=3.2.0->tensorflow-intel==2.17.0->tensorflow) (3.0.0)\n",
      "Requirement already satisfied: pygments<3.0.0,>=2.13.0 in c:\\users\\jimit_moontechnolabs\\appdata\\local\\programs\\python\\python312\\lib\\site-packages (from rich->keras>=3.2.0->tensorflow-intel==2.17.0->tensorflow) (2.18.0)\n",
      "Requirement already satisfied: mdurl~=0.1 in c:\\users\\jimit_moontechnolabs\\appdata\\local\\programs\\python\\python312\\lib\\site-packages (from markdown-it-py>=2.2.0->rich->keras>=3.2.0->tensorflow-intel==2.17.0->tensorflow) (0.1.2)\n",
      "Note: you may need to restart the kernel to use updated packages.\n"
     ]
    }
   ],
   "source": [
    "pip install --upgrade tensorflow"
   ]
  },
  {
   "cell_type": "code",
   "execution_count": 5,
   "id": "fdd75d8b-6d03-4e2d-b071-f97403af7b49",
   "metadata": {},
   "outputs": [],
   "source": [
    "import os\n",
    "import numpy as np\n",
    "from tensorflow.keras.preprocessing.image import ImageDataGenerator"
   ]
  },
  {
   "cell_type": "code",
   "execution_count": 6,
   "id": "e1469045-b14b-47a3-885d-4855fc5fb29d",
   "metadata": {},
   "outputs": [],
   "source": [
    "resized_dataset_dir = 'resized_dataset/'\n",
    "# Path to save augmented images\n",
    "augmented_images_dir = 'augmented_dataset/'\n",
    "os.makedirs(augmented_images_dir, exist_ok=True)"
   ]
  },
  {
   "cell_type": "code",
   "execution_count": 7,
   "id": "c8e98245-3d96-44ce-8fbe-505efe20871c",
   "metadata": {},
   "outputs": [],
   "source": [
    "datagen = ImageDataGenerator(\n",
    "    rotation_range=40,       # Randomly rotate images in the range (degrees)\n",
    "    width_shift_range=0.2,   # Randomly translate images horizontally (20% of width)\n",
    "    height_shift_range=0.2,  # Randomly translate images vertically (20% of height)\n",
    "    shear_range=0.2,         # Shear intensity\n",
    "    zoom_range=0.2,          # Randomly zoom into images\n",
    "    horizontal_flip=True,     # Randomly flip images\n",
    "    fill_mode='nearest'      # Fill strategy for newly created pixels\n",
    ")"
   ]
  },
  {
   "cell_type": "code",
   "execution_count": 8,
   "id": "c6122e56-d824-4e51-b9bc-3342cfdf9c09",
   "metadata": {},
   "outputs": [],
   "source": [
    "for class_name in os.listdir(resized_dataset_dir):\n",
    "    class_path = os.path.join(resized_dataset_dir, class_name)\n",
    "\n",
    "    # Create a corresponding directory in the output folder\n",
    "    augmented_class_dir = os.path.join(augmented_images_dir, class_name)\n",
    "    os.makedirs(augmented_class_dir, exist_ok=True)\n",
    "\n",
    "    # Check if it's a folder (for each class)\n",
    "    if os.path.isdir(class_path):\n",
    "       \n",
    "        for img_file in os.listdir(class_path):\n",
    "            img_path = os.path.join(class_path, img_file)    \n",
    "            # Read image using OpenCV\n",
    "            img = cv2.imread(img_path)\n",
    "\n",
    "            original_img_path = os.path.join(augmented_class_dir, img_file)\n",
    "            cv2.imwrite(original_img_path, img)\n",
    "            \n",
    "            img_array = np.expand_dims(img, axis=0)\n",
    "            \n",
    "            for i, augmented_img in enumerate(datagen.flow(img_array, batch_size=1)):\n",
    "                # Save augmented images with a unique name\n",
    "                augmented_img_path = os.path.join(augmented_class_dir, f\"augmented_{img_file.split('.')[0]}_{i}.jpg\")\n",
    "                cv2.imwrite(augmented_img_path, augmented_img[0])  # Save the augmented image\n",
    "                        \n",
    "                # Stop after saving a certain number of augmented images to avoid too many files\n",
    "                if i >= 4:  # Change this number as per your requirement\n",
    "                    break"
   ]
  },
  {
   "cell_type": "code",
   "execution_count": 9,
   "id": "4f014719-19b1-46a5-93db-570e2d98015b",
   "metadata": {},
   "outputs": [],
   "source": [
    "from tensorflow.keras.applications import VGG16\n",
    "from tensorflow.keras.models import Sequential\n",
    "from tensorflow.keras.layers import Dense, Flatten"
   ]
  },
  {
   "cell_type": "code",
   "execution_count": 10,
   "id": "81f76c7c-f351-4741-bfb7-850ffe83aa40",
   "metadata": {},
   "outputs": [],
   "source": [
    "try:\n",
    "    base_model = VGG16(weights='imagenet', include_top=False, input_shape=(224, 224, 3))\n",
    "except Exception as e:\n",
    "    print(f\"Error loading VGG16: {e}\")\n",
    "    base_model = VGG16(weights=None, include_top=False, input_shape=(224, 224, 3))  # Load without weights"
   ]
  },
  {
   "cell_type": "code",
   "execution_count": 11,
   "id": "b7cb3278-03e2-452e-848c-092dc622cb3f",
   "metadata": {},
   "outputs": [],
   "source": [
    "base_model.trainable = False\n",
    "\n",
    "# Create a new model on top of it\n",
    "model = Sequential([\n",
    "    base_model,\n",
    "    Flatten(),\n",
    "    Dense(128, activation='relu'),\n",
    "    Dense(3, activation='softmax')  # 3 classes for Kohli, Federer, Messi\n",
    "])"
   ]
  },
  {
   "cell_type": "code",
   "execution_count": 12,
   "id": "ffcbba07-f711-400a-b133-6ab51cc2fb5e",
   "metadata": {},
   "outputs": [
    {
     "data": {
      "text/plain": [
       "\"def load_images_from_folder(folder):\\n    images = []\\n    labels = []\\n    \\n    for class_name in os.listdir(folder):\\n        class_folder = os.path.join(folder, class_name)\\n        \\n        if os.path.isdir(class_folder):\\n            for img_file in os.listdir(class_folder):\\n                img_path = os.path.join(class_folder, img_file)\\n                \\n                # Check for .jpg and .png formats\\n                if img_file.endswith(('.jpg', '.png')):\\n                    # Load image using OpenCV\\n                    img = cv2.imread(img_path)\\n                    img = cv2.cvtColor(img, cv2.COLOR_BGR2RGB)  # Convert to RGB\\n                    img_resized = cv2.resize(img, (224, 224))  # Resize to 224x224\\n                    images.append(img_resized)\\n                    labels.append(class_name)\\n    \\n    return np.array(images), np.array(labels)\""
      ]
     },
     "execution_count": 12,
     "metadata": {},
     "output_type": "execute_result"
    }
   ],
   "source": [
    "model.compile(optimizer='adam', loss='categorical_crossentropy', metrics=['accuracy'])\n",
    "\n",
    "# Function to load images and convert to NumPy array\n",
    "\"\"\"def load_images_from_folder(folder):\n",
    "    images = []\n",
    "    labels = []\n",
    "    \n",
    "    for class_name in os.listdir(folder):\n",
    "        class_folder = os.path.join(folder, class_name)\n",
    "        \n",
    "        if os.path.isdir(class_folder):\n",
    "            for img_file in os.listdir(class_folder):\n",
    "                img_path = os.path.join(class_folder, img_file)\n",
    "                \n",
    "                # Check for .jpg and .png formats\n",
    "                if img_file.endswith(('.jpg', '.png')):\n",
    "                    # Load image using OpenCV\n",
    "                    img = cv2.imread(img_path)\n",
    "                    img = cv2.cvtColor(img, cv2.COLOR_BGR2RGB)  # Convert to RGB\n",
    "                    img_resized = cv2.resize(img, (224, 224))  # Resize to 224x224\n",
    "                    images.append(img_resized)\n",
    "                    labels.append(class_name)\n",
    "    \n",
    "    return np.array(images), np.array(labels)\"\"\""
   ]
  },
  {
   "cell_type": "code",
   "execution_count": 13,
   "id": "a6765555-edfd-465e-b2e2-362a8187eede",
   "metadata": {},
   "outputs": [],
   "source": [
    "train_datagen = ImageDataGenerator(rescale=1./255)  # Only rescaling is applied"
   ]
  },
  {
   "cell_type": "code",
   "execution_count": 28,
   "id": "1fdfa1ab-c55f-437c-a167-cdf97a3100a3",
   "metadata": {},
   "outputs": [],
   "source": [
    "#X, y = load_images_from_folder('augmented_dataset/')\n",
    "\n",
    "# Normalize pixel values\n",
    "#X = X / 255.0"
   ]
  },
  {
   "cell_type": "code",
   "execution_count": 14,
   "id": "9ee759e9-9c3f-430e-8c3a-06c5a5d1ae41",
   "metadata": {},
   "outputs": [],
   "source": [
    "train_datagen = ImageDataGenerator(rescale=1./255)"
   ]
  },
  {
   "cell_type": "code",
   "execution_count": 14,
   "id": "53224fa3-5736-4987-bc2a-dd44c5f17a9e",
   "metadata": {},
   "outputs": [
    {
     "name": "stdout",
     "output_type": "stream",
     "text": [
      "Found 157 images belonging to 3 classes.\n"
     ]
    }
   ],
   "source": [
    "train_generator = train_datagen.flow_from_directory(\n",
    "    'augmented_dataset/',  # Directory with augmented image folders\n",
    "    target_size=(224, 224),\n",
    "    batch_size=32,\n",
    "    class_mode='categorical'\n",
    ")"
   ]
  },
  {
   "cell_type": "code",
   "execution_count": 15,
   "id": "de026f8f-abb3-48be-a81c-50410bfd94e5",
   "metadata": {},
   "outputs": [
    {
     "name": "stdout",
     "output_type": "stream",
     "text": [
      "Epoch 1/12\n"
     ]
    },
    {
     "name": "stderr",
     "output_type": "stream",
     "text": [
      "C:\\Users\\jimit_moontechnolabs\\AppData\\Local\\Programs\\Python\\Python312\\Lib\\site-packages\\keras\\src\\trainers\\data_adapters\\py_dataset_adapter.py:122: UserWarning: Your `PyDataset` class should call `super().__init__(**kwargs)` in its constructor. `**kwargs` can include `workers`, `use_multiprocessing`, `max_queue_size`. Do not pass these arguments to `fit()`, as they will be ignored.\n",
      "  self._warn_if_super_not_called()\n"
     ]
    },
    {
     "name": "stdout",
     "output_type": "stream",
     "text": [
      "\u001b[1m4/4\u001b[0m \u001b[32m━━━━━━━━━━━━━━━━━━━━\u001b[0m\u001b[37m\u001b[0m \u001b[1m7s\u001b[0m 1s/step - accuracy: 0.3549 - loss: 4.4565\n",
      "Epoch 2/12\n",
      "\u001b[1m4/4\u001b[0m \u001b[32m━━━━━━━━━━━━━━━━━━━━\u001b[0m\u001b[37m\u001b[0m \u001b[1m1s\u001b[0m 3ms/step - accuracy: 0.4688 - loss: 1.3592\n",
      "Epoch 3/12\n"
     ]
    },
    {
     "name": "stderr",
     "output_type": "stream",
     "text": [
      "C:\\Users\\jimit_moontechnolabs\\AppData\\Local\\Programs\\Python\\Python312\\Lib\\contextlib.py:158: UserWarning: Your input ran out of data; interrupting training. Make sure that your dataset or generator can generate at least `steps_per_epoch * epochs` batches. You may need to use the `.repeat()` function when building your dataset.\n",
      "  self.gen.throw(value)\n"
     ]
    },
    {
     "name": "stdout",
     "output_type": "stream",
     "text": [
      "\u001b[1m4/4\u001b[0m \u001b[32m━━━━━━━━━━━━━━━━━━━━\u001b[0m\u001b[37m\u001b[0m \u001b[1m6s\u001b[0m 1s/step - accuracy: 0.4925 - loss: 1.3305\n",
      "Epoch 4/12\n",
      "\u001b[1m4/4\u001b[0m \u001b[32m━━━━━━━━━━━━━━━━━━━━\u001b[0m\u001b[37m\u001b[0m \u001b[1m1s\u001b[0m 1ms/step - accuracy: 0.6875 - loss: 0.6161\n",
      "Epoch 5/12\n",
      "\u001b[1m4/4\u001b[0m \u001b[32m━━━━━━━━━━━━━━━━━━━━\u001b[0m\u001b[37m\u001b[0m \u001b[1m6s\u001b[0m 1s/step - accuracy: 0.7491 - loss: 0.5516\n",
      "Epoch 6/12\n",
      "\u001b[1m4/4\u001b[0m \u001b[32m━━━━━━━━━━━━━━━━━━━━\u001b[0m\u001b[37m\u001b[0m \u001b[1m1s\u001b[0m 4ms/step - accuracy: 0.9375 - loss: 0.2159\n",
      "Epoch 7/12\n",
      "\u001b[1m4/4\u001b[0m \u001b[32m━━━━━━━━━━━━━━━━━━━━\u001b[0m\u001b[37m\u001b[0m \u001b[1m6s\u001b[0m 1s/step - accuracy: 0.9500 - loss: 0.1597\n",
      "Epoch 8/12\n",
      "\u001b[1m4/4\u001b[0m \u001b[32m━━━━━━━━━━━━━━━━━━━━\u001b[0m\u001b[37m\u001b[0m \u001b[1m1s\u001b[0m 6ms/step - accuracy: 0.9655 - loss: 0.1183\n",
      "Epoch 9/12\n",
      "\u001b[1m4/4\u001b[0m \u001b[32m━━━━━━━━━━━━━━━━━━━━\u001b[0m\u001b[37m\u001b[0m \u001b[1m6s\u001b[0m 1s/step - accuracy: 0.9702 - loss: 0.0937\n",
      "Epoch 10/12\n",
      "\u001b[1m4/4\u001b[0m \u001b[32m━━━━━━━━━━━━━━━━━━━━\u001b[0m\u001b[37m\u001b[0m \u001b[1m1s\u001b[0m 5ms/step - accuracy: 1.0000 - loss: 0.0543\n",
      "Epoch 11/12\n",
      "\u001b[1m4/4\u001b[0m \u001b[32m━━━━━━━━━━━━━━━━━━━━\u001b[0m\u001b[37m\u001b[0m \u001b[1m6s\u001b[0m 1s/step - accuracy: 1.0000 - loss: 0.0442\n",
      "Epoch 12/12\n",
      "\u001b[1m4/4\u001b[0m \u001b[32m━━━━━━━━━━━━━━━━━━━━\u001b[0m\u001b[37m\u001b[0m \u001b[1m1s\u001b[0m 5ms/step - accuracy: 1.0000 - loss: 0.0377\n"
     ]
    },
    {
     "data": {
      "text/plain": [
       "<keras.src.callbacks.history.History at 0x1f2ce9d3e90>"
      ]
     },
     "execution_count": 15,
     "metadata": {},
     "output_type": "execute_result"
    }
   ],
   "source": [
    "model.fit(train_generator, epochs=12, steps_per_epoch=train_generator.samples // 32)"
   ]
  },
  {
   "cell_type": "code",
   "execution_count": 19,
   "id": "3fe21a89-1246-4a56-a08c-b28bd53b85de",
   "metadata": {},
   "outputs": [],
   "source": [
    "from tensorflow.keras.preprocessing import image"
   ]
  },
  {
   "cell_type": "code",
   "execution_count": 22,
   "id": "942274ca-4a35-4095-af55-bcc6d3644de6",
   "metadata": {},
   "outputs": [
    {
     "name": "stdout",
     "output_type": "stream",
     "text": [
      "\u001b[1m1/1\u001b[0m \u001b[32m━━━━━━━━━━━━━━━━━━━━\u001b[0m\u001b[37m\u001b[0m \u001b[1m0s\u001b[0m 72ms/step\n",
      "The predicted class is: Lionel Messi\n"
     ]
    }
   ],
   "source": [
    "img_path = 'messi.jpg'\n",
    "#img_path = 'aa5f6a21b6f819a12108217f5602c1f1.jpg'\n",
    "img = image.load_img(img_path, target_size=(224, 224))\n",
    "img_array = image.img_to_array(img) / 255.0\n",
    "img_array = np.expand_dims(img_array, axis=0)\n",
    "\n",
    "# Predict\n",
    "predictions = model.predict(img_array)\n",
    "class_index = np.argmax(predictions)\n",
    "classes = ['Virat Kohli', 'Roger Federer', 'Lionel Messi']\n",
    "print(f'The predicted class is: {classes[class_index]}')"
   ]
  },
  {
   "cell_type": "markdown",
   "id": "68a3238b-1d73-43c2-a163-68d9710b250c",
   "metadata": {},
   "source": [
    "## ------------------------------------------End Of project----------------------------------------------"
   ]
  },
  {
   "cell_type": "code",
   "execution_count": 30,
   "id": "63298d15-d1c0-4747-afb8-439ebab5b39f",
   "metadata": {},
   "outputs": [],
   "source": [
    "# Convert labels to categorical (one-hot encoding)\n",
    "from sklearn.preprocessing import LabelBinarizer\n",
    "lb = LabelBinarizer()\n",
    "y = lb.fit_transform(y)"
   ]
  },
  {
   "cell_type": "code",
   "execution_count": 33,
   "id": "416ae026-fa07-4de8-aca2-0de4c2a34859",
   "metadata": {},
   "outputs": [],
   "source": [
    "X = np.array(X, dtype=np.float32)\n",
    "y = np.array(y, dtype=np.float32)"
   ]
  },
  {
   "cell_type": "code",
   "execution_count": 37,
   "id": "1a0e4e44-6277-456e-9041-a9dae44703b6",
   "metadata": {},
   "outputs": [
    {
     "name": "stdout",
     "output_type": "stream",
     "text": [
      "Shape of X: (157, 224, 224, 3)\n",
      "Shape of y: (157, 3)\n",
      "X dtype: float32\n",
      "y dtype: float32\n"
     ]
    }
   ],
   "source": [
    "print(\"Shape of X:\", X.shape)\n",
    "print(\"Shape of y:\", y.shape)\n",
    "print(\"X dtype:\", X.dtype)\n",
    "print(\"y dtype:\", y.dtype)"
   ]
  },
  {
   "cell_type": "code",
   "execution_count": 41,
   "id": "2fa50432-b866-4a35-8cc7-cff78610d77b",
   "metadata": {},
   "outputs": [
    {
     "name": "stdout",
     "output_type": "stream",
     "text": [
      "Any NaN in X: False\n",
      "Any infinite in X: False\n",
      "Any NaN in y: False\n",
      "Any infinite in y: False\n"
     ]
    }
   ],
   "source": [
    "print(\"Any NaN in X:\", np.isnan(X).any())\n",
    "print(\"Any infinite in X:\", np.isinf(X).any())\n",
    "print(\"Any NaN in y:\", np.isnan(y).any())\n",
    "print(\"Any infinite in y:\", np.isinf(y).any())"
   ]
  },
  {
   "cell_type": "code",
   "execution_count": 42,
   "id": "fafa25a7-c65c-4a29-ad07-31580169d615",
   "metadata": {},
   "outputs": [],
   "source": [
    "# Fit the model\n",
    "#train_generator = train_datagen.flow(X, y, batch_size=32)"
   ]
  },
  {
   "cell_type": "code",
   "execution_count": 43,
   "id": "2ca9c60f-f071-49b1-9847-2773ba087226",
   "metadata": {},
   "outputs": [
    {
     "ename": "ValueError",
     "evalue": "object __array__ method not producing an array",
     "output_type": "error",
     "traceback": [
      "\u001b[1;31m---------------------------------------------------------------------------\u001b[0m",
      "\u001b[1;31mValueError\u001b[0m                                Traceback (most recent call last)",
      "Cell \u001b[1;32mIn[43], line 4\u001b[0m\n\u001b[0;32m      1\u001b[0m \u001b[38;5;66;03m# Fit the model using the generator\u001b[39;00m\n\u001b[0;32m      2\u001b[0m \u001b[38;5;66;03m#model.fit(train_generator, epochs=10, steps_per_epoch=len(X) // 32)\u001b[39;00m\n\u001b[1;32m----> 4\u001b[0m \u001b[43mmodel\u001b[49m\u001b[38;5;241;43m.\u001b[39;49m\u001b[43mfit\u001b[49m\u001b[43m(\u001b[49m\u001b[43mX\u001b[49m\u001b[43m[\u001b[49m\u001b[43m:\u001b[49m\u001b[38;5;241;43m10\u001b[39;49m\u001b[43m]\u001b[49m\u001b[43m,\u001b[49m\u001b[43m \u001b[49m\u001b[43my\u001b[49m\u001b[43m[\u001b[49m\u001b[43m:\u001b[49m\u001b[38;5;241;43m10\u001b[39;49m\u001b[43m]\u001b[49m\u001b[43m,\u001b[49m\u001b[43m \u001b[49m\u001b[43mepochs\u001b[49m\u001b[38;5;241;43m=\u001b[39;49m\u001b[38;5;241;43m10\u001b[39;49m\u001b[43m,\u001b[49m\u001b[43m \u001b[49m\u001b[43mbatch_size\u001b[49m\u001b[38;5;241;43m=\u001b[39;49m\u001b[38;5;241;43m32\u001b[39;49m\u001b[43m)\u001b[49m\n",
      "File \u001b[1;32m~\\AppData\\Local\\Programs\\Python\\Python312\\Lib\\site-packages\\keras\\src\\utils\\traceback_utils.py:122\u001b[0m, in \u001b[0;36mfilter_traceback.<locals>.error_handler\u001b[1;34m(*args, **kwargs)\u001b[0m\n\u001b[0;32m    119\u001b[0m     filtered_tb \u001b[38;5;241m=\u001b[39m _process_traceback_frames(e\u001b[38;5;241m.\u001b[39m__traceback__)\n\u001b[0;32m    120\u001b[0m     \u001b[38;5;66;03m# To get the full stack trace, call:\u001b[39;00m\n\u001b[0;32m    121\u001b[0m     \u001b[38;5;66;03m# `keras.config.disable_traceback_filtering()`\u001b[39;00m\n\u001b[1;32m--> 122\u001b[0m     \u001b[38;5;28;01mraise\u001b[39;00m e\u001b[38;5;241m.\u001b[39mwith_traceback(filtered_tb) \u001b[38;5;28;01mfrom\u001b[39;00m \u001b[38;5;28;01mNone\u001b[39;00m\n\u001b[0;32m    123\u001b[0m \u001b[38;5;28;01mfinally\u001b[39;00m:\n\u001b[0;32m    124\u001b[0m     \u001b[38;5;28;01mdel\u001b[39;00m filtered_tb\n",
      "File \u001b[1;32m~\\AppData\\Local\\Programs\\Python\\Python312\\Lib\\site-packages\\tensorflow\\python\\framework\\constant_op.py:108\u001b[0m, in \u001b[0;36mconvert_to_eager_tensor\u001b[1;34m(value, ctx, dtype)\u001b[0m\n\u001b[0;32m    106\u001b[0m     dtype \u001b[38;5;241m=\u001b[39m dtypes\u001b[38;5;241m.\u001b[39mas_dtype(dtype)\u001b[38;5;241m.\u001b[39mas_datatype_enum\n\u001b[0;32m    107\u001b[0m ctx\u001b[38;5;241m.\u001b[39mensure_initialized()\n\u001b[1;32m--> 108\u001b[0m \u001b[38;5;28;01mreturn\u001b[39;00m \u001b[43mops\u001b[49m\u001b[38;5;241;43m.\u001b[39;49m\u001b[43mEagerTensor\u001b[49m\u001b[43m(\u001b[49m\u001b[43mvalue\u001b[49m\u001b[43m,\u001b[49m\u001b[43m \u001b[49m\u001b[43mctx\u001b[49m\u001b[38;5;241;43m.\u001b[39;49m\u001b[43mdevice_name\u001b[49m\u001b[43m,\u001b[49m\u001b[43m \u001b[49m\u001b[43mdtype\u001b[49m\u001b[43m)\u001b[49m\n",
      "\u001b[1;31mValueError\u001b[0m: object __array__ method not producing an array"
     ]
    }
   ],
   "source": [
    "# Fit the model using the generator\n",
    "#model.fit(train_generator, epochs=10, steps_per_epoch=len(X) // 32)\n",
    "\n",
    "model.fit(X[:10], y[:10], epochs=10, batch_size=32)\n"
   ]
  },
  {
   "cell_type": "code",
   "execution_count": null,
   "id": "02cd879c-3f12-4fad-b00a-b94a090fc6de",
   "metadata": {},
   "outputs": [],
   "source": []
  }
 ],
 "metadata": {
  "kernelspec": {
   "display_name": "Python 3 (ipykernel)",
   "language": "python",
   "name": "python3"
  },
  "language_info": {
   "codemirror_mode": {
    "name": "ipython",
    "version": 3
   },
   "file_extension": ".py",
   "mimetype": "text/x-python",
   "name": "python",
   "nbconvert_exporter": "python",
   "pygments_lexer": "ipython3",
   "version": "3.12.6"
  }
 },
 "nbformat": 4,
 "nbformat_minor": 5
}
